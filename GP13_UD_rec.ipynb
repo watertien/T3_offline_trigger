{
 "cells": [
  {
   "cell_type": "code",
   "execution_count": null,
   "id": "a0a6e144-3905-4d23-a2fd-88d3b02affcf",
   "metadata": {},
   "outputs": [],
   "source": [
    "from grand.grandlib_classes.grandlib_classes import *\n",
    "import grand.dataio.root_trees as rt\n",
    "import numpy as np\n",
    "import matplotlib.pyplot as plt\n",
    "# import glob\n",
    "from scipy.fft import rfftfreq, rfft, irfft\n",
    "from grand import ECEF, Geodetic, GRANDCS, LTP\n",
    "from scipy.optimize import minimize_scalar\n",
    "# from GP13_UD_T3_offline import grand_T3_trigger, safe_substraction, get_DU_coord\n",
    "plt.style.use(\"/Users/xishui/Dropbox/Config/presentation.mplstyle\")"
   ]
  },
  {
   "cell_type": "code",
   "execution_count": null,
   "id": "fd019c25-05a6-4e9a-b131-7101b4b8bd3d",
   "metadata": {
    "jupyter": {
     "source_hidden": true
    }
   },
   "outputs": [],
   "source": [
    "coord_1078 = Geodetic(latitude=40.99368437530295, longitude=93.95411072589444, height=1205.9284000000027)\n",
    "coord_DAQ = Geodetic(latitude= 40.99734117, longitude=93.94868278, height=1205.9284000000027)\n",
    "\n",
    "def get_DU_coord(lat, long, alt, obstime, origin=coord_DAQ):\n",
    "  # From GPS to Cartisian coordinates\n",
    "  geod = Geodetic(latitude=lat, longitude=long, height=alt)\n",
    "  gcs = GRANDCS(geod, obstime=obstime, location=origin)\n",
    "  return gcs"
   ]
  },
  {
   "cell_type": "markdown",
   "id": "c95773bc-0a6a-4adf-8192-cd816d95561a",
   "metadata": {},
   "source": [
    "# Merge coinc table from different CD"
   ]
  },
  {
   "cell_type": "code",
   "execution_count": null,
   "id": "280f5b82-805e-4ea4-8aa9-20ca836545a8",
   "metadata": {},
   "outputs": [],
   "source": [
    "file_coinctable = np.zeros((0, 4), dtype=np.float64)\n",
    "file_ducoord = np.zeros((0, 4), dtype=np.float64)\n",
    "file_rec_sphere = np.zeros((0, 9), dtype=np.float64)\n",
    "file_rec_plane = np.zeros((0, 8), dtype=np.float64)\n",
    "file_du_id = np.zeros((0,1), dtype=np.int16)\n",
    "list_fname = np.zeros((0,1), dtype=\"U200\")\n",
    "list_du_sec0  = np.zeros((0,1), dtype=np.int64)\n",
    "list_du_nano0 = np.zeros((0,1), dtype=np.int64)\n",
    "\n",
    "i_event = 0\n",
    "i_row = 0\n",
    "list_dir = glob.glob(\"coincidence_table/daemon_job/*.root/\")\n",
    "list_dir = np.sort(list_dir)\n",
    "for dir in list_dir:\n",
    "    # Check the file size, skip the zeros\n",
    "    if os.path.isfile(f\"{dir}/Rec_plane_wave_recons.txt\") == 0:\n",
    "        continue\n",
    "    _file_coinctable = np.genfromtxt(f\"{dir}/Rec_coinctable.txt\", dtype=float)\n",
    "    _file_ducoord = np.genfromtxt(f\"{dir}/coord_antennas.txt\", dtype=float)\n",
    "    _file_rec_sphere = np.genfromtxt(f\"{dir}/Rec_sphere_wave_recons.txt\", dtype=float, usecols=np.arange(9))\n",
    "    _file_rec_sphere = _file_rec_sphere.reshape((-1,9))\n",
    "    _file_rec_plane = np.genfromtxt(f\"{dir}/Rec_plane_wave_recons.txt\", dtype=float)\n",
    "    _file_rec_plane = _file_rec_plane.reshape((-1,8))\n",
    "    _file_du_id = np.genfromtxt(f\"{dir}/DU_id.txt\", usecols=1)\n",
    "    _list_fname = np.genfromtxt(f\"{dir}/DU_id.txt\", usecols=0, dtype='U200')\n",
    "    _list_du_sec0  = np.genfromtxt(f\"{dir}/DU_id.txt\", usecols=2, dtype=np.int64)\n",
    "    _list_du_nano0 = np.genfromtxt(f\"{dir}/DU_id.txt\", usecols=3, dtype=np.int64)\n",
    "    # Update the event number and row number\n",
    "    _n_row = len(_file_coinctable[:,0])\n",
    "    # Event ID starting from 0, so the event number = Max(ID) + 1\n",
    "    _n_event = int(_file_coinctable[-1,1]) + 1\n",
    "    _file_coinctable[:,0] = _file_coinctable[:,0] + i_row\n",
    "    _file_coinctable[:,1] = _file_coinctable[:,1] + i_event\n",
    "    _file_ducoord[:,0] = _file_ducoord[:,0] + i_row\n",
    "    _file_rec_plane[:,0] = _file_rec_plane[:,0] + i_event\n",
    "    _file_rec_sphere[:,0] = _file_rec_sphere[:,0] + i_event\n",
    "    i_row += _n_row\n",
    "    i_event += _n_event\n",
    "    file_coinctable = np.append(file_coinctable, _file_coinctable, axis=0)\n",
    "    file_ducoord = np.append(file_ducoord, _file_ducoord, axis=0)\n",
    "    file_rec_sphere = np.append(file_rec_sphere, _file_rec_sphere, axis=0)\n",
    "    file_rec_plane = np.append(file_rec_plane, _file_rec_plane, axis=0)\n",
    "    file_du_id = np.append(file_du_id, _file_du_id)\n",
    "    list_fname = np.append(list_fname, _list_fname)\n",
    "    list_du_sec0  = np.append(list_du_sec0, _list_du_sec0)\n",
    "    list_du_nano0 = np.append(list_du_nano0, _list_du_nano0)"
   ]
  },
  {
   "cell_type": "markdown",
   "id": "0d774271-83fb-4a44-9d9d-919caafc51a6",
   "metadata": {},
   "source": [
    "# The distribution of $\\chi^2$"
   ]
  },
  {
   "cell_type": "markdown",
   "id": "d99d2b19-da24-43be-9ca3-43b0ddb5c78b",
   "metadata": {},
   "source": [
    "## PWF"
   ]
  },
  {
   "cell_type": "code",
   "execution_count": null,
   "id": "4e589f18-0a52-4d7d-9f5d-0aa8c2c37eca",
   "metadata": {},
   "outputs": [],
   "source": [
    "list_chi2_PWF = file_rec_plane[:,6] \n",
    "plt.hist(list_chi2_PWF, np.logspace(-8, 8, 51), histtype='step', color='k')\n",
    "# plt.hist(list_chi2[file_rec_plane[:,1] == 6], np.logspace(-2, 6, 51), histtype='step')\n",
    "plt.semilogy()\n",
    "plt.ylabel(\"# of events\")\n",
    "plt.xlabel(\"$\\chi^2_{\\\\rm PWF}$\")\n",
    "plt.grid()\n",
    "plt.semilogx()"
   ]
  },
  {
   "cell_type": "markdown",
   "id": "e06c17e4-e4f9-458d-85a6-f6d5b5beb61d",
   "metadata": {},
   "source": [
    "## SWF"
   ]
  },
  {
   "cell_type": "code",
   "execution_count": null,
   "id": "b8481bb9-dbb8-4008-92a8-08a16740fd77",
   "metadata": {},
   "outputs": [],
   "source": [
    "list_chi2_SWF = file_rec_sphere[:,2]\n",
    "plt.hist(list_chi2_SWF, np.logspace(-7, 9,), histtype='step')\n",
    "plt.loglog()\n",
    "# plt.legend()\n",
    "plt.xticks()\n",
    "plt.grid()\n",
    "plt.xlabel(r\"$\\chi^2_{\\rm SWF}$\");"
   ]
  },
  {
   "cell_type": "markdown",
   "id": "33001917-c5d3-4715-b7e4-0de0d0ceefd8",
   "metadata": {},
   "source": [
    "## Chi2 mask"
   ]
  },
  {
   "cell_type": "code",
   "execution_count": null,
   "id": "28c9bb99-8570-42bd-964f-f5083a56adcd",
   "metadata": {},
   "outputs": [],
   "source": [
    "mask_chi2 = list_chi2_PWF < 1e3"
   ]
  },
  {
   "cell_type": "markdown",
   "id": "b7603fb6-ec66-4996-8af7-a7d4fd54ecd7",
   "metadata": {},
   "source": [
    "# Event time"
   ]
  },
  {
   "cell_type": "code",
   "execution_count": null,
   "id": "0d6a8504-181d-4895-b427-196a761a5974",
   "metadata": {},
   "outputs": [],
   "source": [
    "# Get the true time (add the reference time back)\n",
    "_, mask_event_time = np.unique(file_coinctable[:,1], return_index=True)\n",
    "list_event_true = (file_coinctable[mask_event_time,2] * 1e9).astype(np.int64) + (list_du_sec0[mask_event_time] * 1e9).astype(np.int64) + list_du_nano0[mask_event_time]"
   ]
  },
  {
   "cell_type": "markdown",
   "id": "39615c56-0eec-41cc-95d1-025ceb3ce1c0",
   "metadata": {},
   "source": [
    "### CD trigger rate"
   ]
  },
  {
   "cell_type": "code",
   "execution_count": null,
   "id": "0192ed7b-381b-4ad8-bb11-f8b2c891511b",
   "metadata": {},
   "outputs": [],
   "source": [
    "t_bin_width = 2 * 1e9 # in nanosecond\n",
    "\n",
    "t_start = list_event_true[0]\n",
    "t_end = list_event_true[-1]\n",
    "t_bin_edges = np.arange(t_start, t_end + t_bin_width, t_bin_width)\n",
    "t_bin_centers = t_bin_edges[:-1] + t_bin_width // 2\n",
    "n_CD, _ = np.histogram(list_event_true, t_bin_edges)\n",
    "# plt.plot((t_bin_centers - t_bin_centers[0]) / 1e9,\n",
    "#          n_CD / (t_bin_width / 1e9),\n",
    "#          marker='.', ls='', markersize=1)\n",
    "plt.plot(t_bin_centers[n_CD>0], n_CD[n_CD>0] / (t_bin_width / 1e9),\n",
    "         marker='.', ls='-', markersize=3, lw=1)\n",
    "plt.xlabel(\"Timestamp\")\n",
    "plt.ylabel(\"Trigger rate [Hz]\")"
   ]
  },
  {
   "cell_type": "markdown",
   "id": "cb5abf63-a19e-4f83-9d15-210946de5e03",
   "metadata": {},
   "source": [
    "## Time difference between two events"
   ]
  },
  {
   "cell_type": "code",
   "execution_count": null,
   "id": "fa40aa80-3b8b-4ac6-a876-2c1290c110d1",
   "metadata": {},
   "outputs": [],
   "source": [
    "plt.hist(np.diff(list_event_true[mask_chi2]), np.logspace(4, 15, 60))\n",
    "plt.loglog()\n",
    "plt.xlabel(\"$\\Delta t [\\\\rm ns]$\")\n",
    "plt.ylabel(\"# of events\");"
   ]
  },
  {
   "cell_type": "markdown",
   "id": "99205345-b9e7-4c79-8f57-ec8990c86536",
   "metadata": {},
   "source": [
    "# Reconstructed directions"
   ]
  },
  {
   "cell_type": "markdown",
   "id": "d8080cc4-899f-4aec-89f9-7ee4851b8a58",
   "metadata": {},
   "source": [
    "## PWF"
   ]
  },
  {
   "cell_type": "markdown",
   "id": "330d5c99-0ee6-4d42-bb38-15caa1ea702f",
   "metadata": {},
   "source": [
    "### Zenith"
   ]
  },
  {
   "cell_type": "code",
   "execution_count": null,
   "id": "aa886851-41a5-4365-9365-b1318388e754",
   "metadata": {},
   "outputs": [],
   "source": [
    "list_n_du = file_rec_plane[:,1]\n",
    "list_chi2 = file_rec_plane[:,6]\n",
    "\n",
    "zenith = file_rec_plane[:,2].copy() # Propagation driection of the em wave: from the source to the observer\n",
    "zenith = 180 - zenith # From the observer to the source\n",
    "zenith[zenith > 90] = 90 - (zenith[zenith > 90] - 90) # Reflect the up-going events to down-going\n",
    "plt.hist(zenith, bins=np.linspace(0, 90, 451), label='Total', histtype='step', lw=3, color='k')\n",
    "plt.hist(zenith[list_n_du == 6], bins=np.linspace(0, 90, 451), label='n$_{DU}=6$', histtype='step', lw=1)\n",
    "plt.hist(zenith[list_n_du == 7], bins=np.linspace(0, 90, 451), label='n$_{DU}=7$', histtype='step', lw=1)\n",
    "\n",
    "plt.legend()\n",
    "plt.xlabel('Zenith [deg] (wrapped at the horizon)')\n",
    "plt.grid()\n",
    "plt.semilogy()\n",
    "plt.xlim(0, 90)\n",
    "# plt.xticks(np.arange(0, 91, 10))\n",
    "plt.tight_layout()\n",
    "plt.legend(loc='best')\n",
    "# plt.savefig(\"imgs/zenith_dist_beacon_173.pdf\");"
   ]
  },
  {
   "cell_type": "markdown",
   "id": "30257ac9-668b-4eea-bec1-fbe93721edb8",
   "metadata": {},
   "source": [
    "### Azimuth"
   ]
  },
  {
   "cell_type": "code",
   "execution_count": null,
   "id": "f95b0d63-b969-4110-9a96-8c2d2fc46f08",
   "metadata": {},
   "outputs": [],
   "source": [
    "# change the coordinate system: \"from source to observer\" to \"from observer to source\"\n",
    "# the conventional CR notation\n",
    "azimuth = file_rec_plane[:,4] + 180\n",
    "azimuth[azimuth > 360] = azimuth[azimuth > 360] - 360\n",
    "plt.hist(azimuth, bins=np.linspace(0, 360, 361), label='Total', histtype='step', lw=1, color='k', zorder=100)\n",
    "plt.legend()\n",
    "plt.xlabel(\"Azimuth [deg]\")\n",
    "# plt.xlim(27, 28)\n",
    "plt.grid()\n",
    "plt.tight_layout()\n",
    "# plt.savefig(\"imgs/azimuth_dist_beacon_173.pdf\")"
   ]
  },
  {
   "cell_type": "markdown",
   "id": "e3ea15cc-a9ac-4853-b1dd-996d66a52027",
   "metadata": {},
   "source": [
    "## SWF"
   ]
  },
  {
   "cell_type": "code",
   "execution_count": null,
   "id": "7e886497-8d2a-4998-aebd-a1cc5a4135a9",
   "metadata": {},
   "outputs": [],
   "source": [
    "zenith_SWF = np.rad2deg(np.arccos( file_rec_sphere[:,6] / file_rec_sphere[:,8]))\n",
    "zenith_SWF[zenith_SWF > 90] = 180 - zenith_SWF[zenith_SWF > 90]\n",
    "azimuth_SWF = np.rad2deg(np.arctan2(file_rec_sphere[:,5], file_rec_sphere[:,4]))\n",
    "azimuth_SWF[azimuth_SWF < 0] = azimuth_SWF[azimuth_SWF < 0] + 360\n",
    "# plt.hist(_theta[list_chi2 < 1e3], np.linspace(0, 91, 901), histtype='step')\n",
    "# plt.hist(_theta[list_chi2 > 1e4], np.linspace(0, 91, 901), histtype='step');\n",
    "# plt.hist(_phi[~mask_chi2], np.linspace(0, 361, 3601), histtype='step')\n",
    "# plt.hist(_phi[mask_chi2], np.linspace(0, 361, 3601), histtype='step');\n",
    "plt.hist(zenith_SWF[mask_chi2], 200, histtype='step');\n",
    "# plt.xlim(26, 28)"
   ]
  },
  {
   "cell_type": "code",
   "execution_count": null,
   "id": "60406266-411b-401f-8331-607be5e77e74",
   "metadata": {},
   "outputs": [],
   "source": [
    "plt.hist(azimuth_SWF[mask_chi2], np.linspace(0, 360, 361),\n",
    "         histtype='step');"
   ]
  },
  {
   "cell_type": "code",
   "execution_count": null,
   "id": "e3230f0b-7ecd-4de3-a952-9d7d93986840",
   "metadata": {},
   "outputs": [],
   "source": [
    "plt.figure(figsize=(12,4))\n",
    "plt.plot(azimuth_SWF, zenith_SWF, marker='.', ls='', markersize=2, label='PWF')\n",
    "plt.plot(azimuth, zenith, marker='.', ls='', markersize=2, label='SWF')\n",
    "plt.ylim(90, 0)\n",
    "plt.legend()"
   ]
  },
  {
   "cell_type": "markdown",
   "id": "c9621e9b-6461-4d15-b5cf-c202f0f4337b",
   "metadata": {},
   "source": [
    "# Multiplicity distribution"
   ]
  },
  {
   "cell_type": "code",
   "execution_count": null,
   "id": "b45b81a9-7ea5-41eb-9a40-ca6a7aa9fc7d",
   "metadata": {},
   "outputs": [],
   "source": [
    "# n_DU, n = np.unique(file_rec_plane[~mask_chi2,1], return_counts=True)\n",
    "# plt.bar(n_DU, n, width=0.7, alpha=0.4)\n",
    "n_DU, n = np.unique(file_rec_sphere[mask_chi2,1], return_counts=True)\n",
    "plt.bar(n_DU, n, width=0.7, alpha=1)\n",
    "plt.plot(n_DU, n[0] * 10**(-0.65 * (n_DU - n_DU[0])), color='r')\n",
    "\n",
    "plt.grid()\n",
    "plt.xticks(np.arange(13))\n",
    "plt.semilogy();"
   ]
  },
  {
   "cell_type": "markdown",
   "id": "f7353942-c726-4c0e-8694-bb7fe9c39604",
   "metadata": {},
   "source": [
    "# Reconstructed source position"
   ]
  },
  {
   "cell_type": "markdown",
   "id": "8f01ad80-fea2-4d46-8135-4e86811bdec1",
   "metadata": {},
   "source": [
    "## (X, Y)"
   ]
  },
  {
   "cell_type": "code",
   "execution_count": null,
   "id": "f66a5a7d-3f10-430f-89c7-d94cd85ae9fd",
   "metadata": {},
   "outputs": [],
   "source": [
    "x = file_rec_sphere[:,4]\n",
    "y = file_rec_sphere[:,5]\n",
    "z = file_rec_sphere[:,6]\n",
    "d = np.sqrt((x - source[0])**2 + (y - source[1])**2 + (z - source[2]))\n",
    "mask_d = d < (d.max() * 0.9)\n",
    "plt.plot(-y[(mask_chi2) & (mask_d)], x[(mask_chi2) & (mask_d)], marker='.', ls='', markersize=2)\n",
    "# plt.plot(y[list_chi2 < 1e3], -x[list_chi2 < 1e3], marker='.', ls='')\n",
    "# plt.plot(y[list_chi2 > 1e4], -x[list_chi2 > 1e4], marker='.', ls='')\n",
    "# plt.xlim(-100, 200)\n",
    "# plt.ylim(-200, 200)\n",
    "plt.xlabel(\"Easting [m]\")\n",
    "plt.ylabel(\"Northing [m]\")\n",
    "plt.axis(\"equal\")"
   ]
  },
  {
   "cell_type": "markdown",
   "id": "f89481c6-d116-4f70-80f3-48148ded185e",
   "metadata": {},
   "source": [
    "## Distance, is there a boundary?"
   ]
  },
  {
   "cell_type": "code",
   "execution_count": null,
   "id": "3cf6449e-ed2f-4c49-b513-b378259ea696",
   "metadata": {},
   "outputs": [],
   "source": [
    "source = (0, 0, 1205)"
   ]
  },
  {
   "cell_type": "code",
   "execution_count": null,
   "id": "3ecead2f-a472-46f8-9dd2-6d39ac745124",
   "metadata": {},
   "outputs": [],
   "source": [
    "plt.hist(d[(mask_chi2) & mask_d], np.logspace(2, 5, 100), histtype='step')\n",
    "# plt.hist(d[~mask_chi2], np.logspace(0, 5, 100), histtype='step')\n",
    "\n",
    "plt.loglog()\n",
    "plt.xlabel(\"Distance to (0,0, 1205) [m]\");"
   ]
  },
  {
   "cell_type": "markdown",
   "id": "1ac9ad37-4c61-4e44-af71-ef2ea1477d18",
   "metadata": {},
   "source": [
    "## Error here, inconsistent number of events for sphere rec and time"
   ]
  },
  {
   "cell_type": "code",
   "execution_count": null,
   "id": "f84a0061-b919-4722-8cda-49b5bb79ab65",
   "metadata": {},
   "outputs": [],
   "source": [
    "ax = plt.figure(figsize=(10, 10)).add_subplot(projection='3d')\n",
    "# Flip the z values to all positive\n",
    "ax.scatter(x[(mask_chi2) & (mask_d)], y[(mask_chi2) & (mask_d)], \n",
    "           np.abs(z[(mask_chi2) & (mask_d)] - source[2]) + - source[2],\n",
    "           s=5, c=list_event_true[(mask_chi2) & (mask_d)])\n",
    "ax.scatter(*source, marker='*', s=500,)\n",
    "ax.view_init(elev=30., azim=230, roll=0)\n",
    "ax.set_xlabel(\"x[m]\")\n",
    "ax.set_ylabel(\"y[m]\")\n",
    "ax.set_zlabel(\"z[m]\")\n",
    "ax.legend()\n",
    "plt.tight_layout()"
   ]
  }
 ],
 "metadata": {
  "kernelspec": {
   "display_name": "Python 3 (ipykernel)",
   "language": "python",
   "name": "python3"
  },
  "language_info": {
   "codemirror_mode": {
    "name": "ipython",
    "version": 3
   },
   "file_extension": ".py",
   "mimetype": "text/x-python",
   "name": "python",
   "nbconvert_exporter": "python",
   "pygments_lexer": "ipython3",
   "version": "3.9.18"
  }
 },
 "nbformat": 4,
 "nbformat_minor": 5
}
