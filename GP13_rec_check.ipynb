{
 "cells": [
  {
   "cell_type": "code",
   "execution_count": null,
   "id": "7b4cef53-41f7-45e1-889e-9b95e0d1fc21",
   "metadata": {
    "scrolled": true
   },
   "outputs": [],
   "source": [
    "from grand.grandlib_classes.grandlib_classes import *\n",
    "import grand.dataio.root_trees as rt\n",
    "import numpy as np\n",
    "import matplotlib.pyplot as plt\n",
    "# import glob\n",
    "import os\n",
    "from scipy.fft import rfftfreq, rfft, irfft\n",
    "from grand import ECEF, Geodetic, GRANDCS, LTP\n",
    "from scipy.optimize import minimize_scalar\n",
    "# from GP13_UD_T3_offline import grand_T3_trigger, safe_substraction, get_DU_coord\n",
    "plt.style.use(\"/Users/xishui/Dropbox/Config/presentation.mplstyle\")"
   ]
  },
  {
   "cell_type": "code",
   "execution_count": null,
   "id": "64cb0930-5e81-427a-b265-739fd76044e1",
   "metadata": {},
   "outputs": [],
   "source": [
    "coord_1078 = Geodetic(latitude=40.99368437530295, longitude=93.95411072589444, height=1205.9284000000027)\n",
    "coord_DAQ = Geodetic(latitude= 40.99734117, longitude=93.94868278, height=1205.9284000000027)\n",
    "\n",
    "def get_DU_coord(lat, long, alt, obstime, origin=coord_DAQ):\n",
    "  # From GPS to Cartisian coordinates\n",
    "  geod = Geodetic(latitude=lat, longitude=long, height=alt)\n",
    "  gcs = GRANDCS(geod, obstime=obstime, location=origin)\n",
    "  return gcs"
   ]
  },
  {
   "cell_type": "markdown",
   "id": "201cfff2-4534-4f32-99e1-b207565c6f75",
   "metadata": {},
   "source": [
    "# Merge coinc table from different CD"
   ]
  },
  {
   "cell_type": "code",
   "execution_count": null,
   "id": "23607cea-7f0e-4e50-bdae-77e2ee859532",
   "metadata": {},
   "outputs": [],
   "source": [
    "file_coinctable = np.zeros((0, 4), dtype=np.float64)\n",
    "file_ducoord = np.zeros((0, 4), dtype=np.float64)\n",
    "file_rec_sphere = np.zeros((0, 9), dtype=np.float64)\n",
    "file_rec_plane = np.zeros((0, 8), dtype=np.float64)\n",
    "file_du_id = np.zeros((0,1), dtype=np.int16)\n",
    "\n",
    "i_event = 0\n",
    "i_row = 0\n",
    "for i_run in range(1,9):\n",
    "    run_str = f\"0914_UD_MD_11DUs_13h_Threshold200/{i_run:03d}\"\n",
    "    # Check the file size, skip the zeros\n",
    "    if os.path.getsize(f\"coincidence_table/{run_str}/Rec_coinctable.txt\") == 0:\n",
    "        continue\n",
    "    _file_coinctable = np.genfromtxt(f\"coincidence_table/{run_str}/Rec_coinctable.txt\", dtype=float)\n",
    "    _file_ducoord = np.genfromtxt(f\"coincidence_table/{run_str}/coord_antennas.txt\", dtype=float)\n",
    "    _file_rec_sphere = np.genfromtxt(f\"coincidence_table/{run_str}/Rec_sphere_wave_recons.txt\", dtype=float, usecols=np.arange(9))\n",
    "    _file_rec_plane = np.genfromtxt(f\"coincidence_table/{run_str}/Rec_plane_wave_recons.txt\", dtype=float)\n",
    "    _file_du_id = np.genfromtxt(f\"coincidence_table/{run_str}/DU_id.txt\", usecols=1)\n",
    "    # Update the event number and row number\n",
    "    _n_row = len(_file_coinctable[:,0])\n",
    "    _n_event = _file_coinctable[-1,1]\n",
    "    _file_coinctable[:,0] = _file_coinctable[:,0] + i_row\n",
    "    _file_coinctable[:,1] = _file_coinctable[:,1] + i_event\n",
    "    _file_ducoord[:,0] = _file_ducoord[:,0] + i_row\n",
    "    _file_rec_plane[:,0] = _file_rec_plane[:,0] + i_event\n",
    "    _file_rec_sphere[:,0] = _file_rec_sphere[:,0] + i_event\n",
    "    i_row += _n_row\n",
    "    i_event += _n_event\n",
    "    \n",
    "    file_coinctable = np.append(_file_coinctable, file_coinctable, axis=0)\n",
    "    file_ducoord = np.append(file_ducoord, _file_ducoord, axis=0)\n",
    "    file_rec_sphere = np.append(file_rec_sphere, _file_rec_sphere, axis=0)\n",
    "    file_rec_plane = np.append(file_rec_plane, _file_rec_plane, axis=0)\n",
    "    file_du_id = np.append(file_du_id, _file_du_id)"
   ]
  },
  {
   "cell_type": "markdown",
   "id": "60397528-d9bd-48d0-922f-1abbbd27b0fd",
   "metadata": {},
   "source": [
    "# Reconstructed directions"
   ]
  },
  {
   "cell_type": "code",
   "execution_count": null,
   "id": "fc86b7f4-46b5-45d7-a516-81ab8f3b3fbb",
   "metadata": {},
   "outputs": [],
   "source": [
    "list_n_du = file_rec_plane[:,1]\n",
    "list_chi2 = file_rec_plane[:,6]\n",
    "\n",
    "zenith = file_rec_plane[:,2].copy() # Propagation driection of the em wave: from the source to the observer\n",
    "zenith = 180 - zenith # From the observer to the source\n",
    "zenith[zenith > 90] = 90 - (zenith[zenith > 90] - 90) # Reflect the up-going events to down-going\n",
    "plt.hist(zenith, bins=np.linspace(0, 90, 451), label='Total', histtype='step', lw=3, color='k')\n",
    "plt.hist(zenith[list_n_du == 6], bins=np.linspace(0, 90, 451), label='n$_{DU}=6$', histtype='step', lw=1)\n",
    "plt.hist(zenith[list_n_du == 5], bins=np.linspace(0, 90, 451), label='n$_{DU}=5$', histtype='step', lw=1)\n",
    "\n",
    "plt.legend()\n",
    "plt.xlabel('Zenith [deg] (wrapped at the horizon)')\n",
    "plt.grid()\n",
    "# plt.xlim(65, 90)\n",
    "# plt.xticks(np.arange(0, 91, 10))\n",
    "plt.tight_layout()\n",
    "plt.legend(loc='best')\n",
    "# plt.savefig(\"imgs/zenith_dist_beacon_173.pdf\");"
   ]
  },
  {
   "cell_type": "code",
   "execution_count": null,
   "id": "b17f699a-67ee-4d9e-9084-4d561e94f0e7",
   "metadata": {},
   "outputs": [],
   "source": [
    "# change the coordinate system: \"from source to observer\" to \"from observer to source\"\n",
    "# the conventional CR notation\n",
    "azimuth = file_rec_plane[:,4] + 180\n",
    "azimuth[azimuth > 360] = azimuth[azimuth > 360] - 360\n",
    "plt.hist(azimuth, bins=np.linspace(0, 360, 7201), label='Total', histtype='step', lw=1, color='k', zorder=100)\n",
    "plt.hist(azimuth[file_rec_plane[:,1] == 6], bins=np.linspace(0, 360, 7201), label='n$_{DU}=6$', histtype='step', lw=2)\n",
    "plt.hist(azimuth[file_rec_plane[:,1] == 7], bins=np.linspace(0, 360, 7201), label='n$_{DU}=7$', histtype='step', lw=2)\n",
    "plt.legend()\n",
    "plt.xlabel(\"Azimuth [deg]\")\n",
    "# plt.xlim(27, 28)\n",
    "plt.grid()\n",
    "plt.tight_layout()\n",
    "# plt.savefig(\"imgs/azimuth_dist_beacon_173.pdf\")"
   ]
  },
  {
   "cell_type": "code",
   "execution_count": null,
   "id": "405932f3-ce5b-439d-9425-52f6120deaaf",
   "metadata": {},
   "outputs": [],
   "source": [
    "plt.figure(figsize=(12,4))\n",
    "plt.plot(azimuth, zenith, marker='.', ls='', markersize=2)\n",
    "plt.ylim(90, 0)"
   ]
  },
  {
   "cell_type": "markdown",
   "id": "30cd5444",
   "metadata": {},
   "source": [
    "## (Real/expected) time delays for reconstructed events"
   ]
  },
  {
   "cell_type": "markdown",
   "id": "f9b121a2",
   "metadata": {
    "jp-MarkdownHeadingCollapsed": true
   },
   "source": [
    "## Time delay of PWF"
   ]
  },
  {
   "cell_type": "code",
   "execution_count": null,
   "id": "19aa6b7c",
   "metadata": {},
   "outputs": [],
   "source": [
    "def time_delay_plane_wave(pars, t_exp, list_du_pos):\n",
    "  theta_deg, phi_deg = pars\n",
    "  theta, phi = np.radians(theta_deg, phi_deg) # Reconstructed direction of the source\n",
    "  event_coord_shower_axis = np.dot(list_du_pos, [np.sin(theta) * np.cos(phi), np.sin(theta) * np.sin(phi), np.cos(theta)]) \n",
    "  time_delay_rec =  event_coord_shower_axis / 3e8 * 1e9 # in nanoseconds\n",
    "  # use the first triggered DU as the time origin\n",
    "  time_offset = time_delay_exp[mask_sort_time_delay][0] * 1e9 - (time_delay_rec[mask_sort_time_delay])\n",
    "  chi2 = np.sum((time_delay_exp[mask_sort_time_delay] * 1e9 - (time_delay_rec[mask_sort_time_delay] + time_offset))**2) / (len(time_delay_exp) - 2)\n",
    "  return chi2"
   ]
  },
  {
   "cell_type": "code",
   "execution_count": null,
   "id": "686994e9",
   "metadata": {
    "jupyter": {
     "source_hidden": true
    }
   },
   "outputs": [],
   "source": [
    "list_chi2_PWF = file_rec_plane[:,6]\n",
    "# list_chi2 = np.zeros(len(file_rec_plane))\n",
    "# for i, event_id in enumerate(file_rec_plane[:,0]):\n",
    "#   list_linenumber = file_coinctable[file_coinctable[:,1] == event_id,0]\n",
    "#   time_delay_exp = file_coinctable[file_coinctable[:,1] == event_id,2]\n",
    "#   time_delay_exp_ns = time_delay_exp * 1e9 # trigger times of DUs in nanosecond\n",
    "#   mask_sort_time_delay = np.argsort(time_delay_exp)\n",
    "#   # Reconstructed direction of the source, \"from source to observer notation\"\n",
    "#   rec_theta, rec_phi = np.radians(file_rec_plane[file_rec_plane[:,0] == event_id,[2,4]])\n",
    "#   du_pos = file_ducoord[list_linenumber.astype(\"int\"),1:]\n",
    "#   event_coord_shower_axis = np.dot(du_pos, [np.sin(rec_theta) * np.cos(rec_phi), np.sin(rec_theta) * np.sin(rec_phi), np.cos(rec_theta)]) \n",
    "#   time_delay_rec =  event_coord_shower_axis / 3e8 * 1e9 # in nanoseconds\n",
    "#   # use the first triggered DU as the time origin\n",
    "#   t_exp = time_delay_exp_ns[mask_sort_time_delay] - time_delay_exp_ns[mask_sort_time_delay][0]\n",
    "#   t_rec = time_delay_rec[mask_sort_time_delay] - time_delay_rec[mask_sort_time_delay][0]\n",
    "#   chi2 = np.sum((t_exp - t_rec)**2) / (len(time_delay_exp) - 2)\n",
    "#   list_chi2[i] = chi2\n",
    "#   # plt.clf()  \n",
    "#   # plt.plot(t_rec, t_exp, marker='.', ls='')\n",
    "#   # # plt.axis(\"equal\")\n",
    "#   # plt.plot(np.array([0, 5000]), np.array([0, 5000]), ls='--', color='r')\n",
    "#   # plt.xlabel(r\"$\\Delta t_{\\rm exp} $ [ns]\")\n",
    "#   # plt.ylabel(r\"$\\Delta t_{\\rm rec} $ [ns]\")\n",
    "#   # plt.title(f\"Plane Wave Rec {event_id:.0f}\")\n",
    "#   # plt.grid(True)\n",
    "#   # plt.tight_layout()\n",
    "#   # plt.savefig(f\"img/delay_plane_{event_id:.0f}.pdf\")"
   ]
  },
  {
   "cell_type": "markdown",
   "id": "ed1d4f63-3f84-4a37-a054-e3408d96a45b",
   "metadata": {},
   "source": [
    "## The distribution of $\\chi^2$"
   ]
  },
  {
   "cell_type": "code",
   "execution_count": null,
   "id": "d93a2548-e0cd-4674-af6b-b89770f123b4",
   "metadata": {},
   "outputs": [],
   "source": [
    "list_chi2_PWF = file_rec_plane[:,6] \n",
    "plt.hist(list_chi2, np.logspace(0, 5, 51), histtype='step', color='k')\n",
    "plt.hist(list_chi2[file_rec_plane[:,1] == 6], np.logspace(-2, 6, 51), histtype='step')\n",
    "plt.hist(list_chi2[file_rec_plane[:,1] == 7], np.logspace(-2, 6, 51), histtype='step')\n",
    "# plt.hist(list_chi2_PWF, np.logspace(0, 5, 51), histtype='step', color='r')\n",
    "plt.semilogy()\n",
    "plt.ylabel(\"# of events\")\n",
    "plt.xlabel(\"$\\chi^2$\")\n",
    "plt.grid()\n",
    "plt.semilogx()"
   ]
  },
  {
   "cell_type": "markdown",
   "id": "cfd4aaac-d22b-4db8-a1f1-071b19aef224",
   "metadata": {
    "jp-MarkdownHeadingCollapsed": true
   },
   "source": [
    "# Layout of GP13"
   ]
  },
  {
   "cell_type": "code",
   "execution_count": null,
   "id": "940b4e9a-cef3-40fa-991b-ee5db3915d4a",
   "metadata": {},
   "outputs": [],
   "source": [
    "file_cood = np.genfromtxt(\"coincidence_table/test/coord_antennas.txt\")\n",
    "file_du_id = np.genfromtxt(\"coincidence_table/test/DU_id.txt\", usecols=(1))"
   ]
  },
  {
   "cell_type": "code",
   "execution_count": null,
   "id": "ad01e560-21ea-4bba-998b-cbe8b8c9dc31",
   "metadata": {},
   "outputs": [],
   "source": [
    "# GPS provided by on-site measurement at GP13, independent measurements from ones on board\n",
    "y = np.array([93.94177, 40.99434,  1262.3760,    1267,\n",
    "93.94717,  40.99066,  1257.6813,    1263,\n",
    "93.95256,  40.98818, 1256.2160,    1257,\n",
    "93.95853,  40.98984, 1251.1682,    1250,\n",
    "93.96260,  40.98816, 1248.0000,    1251,\n",
    "93.94189,  40.98383, 1269.2376,    1273,\n",
    "93.95225,  40.98456, 1265.5424,    1263,\n",
    "93.96222,  40.98312, 1256.5299,    1261,\n",
    "93.94732,  40.98151,  1268.0000,    1269,\n",
    "93.95710,  40.98132, 1263.2480,    1266,\n",
    "93.94690,  40.97682,  1274.5520,    1276,\n",
    "93.95224,  40.97508, 1276.0000,    1279,\n",
    "93.95789,  40.97689, 1272.6000,    1275,\n",
    "93.94213,  40.98834,  1266.9760,    1268]).reshape((-1, 4))"
   ]
  },
  {
   "cell_type": "code",
   "execution_count": null,
   "id": "170bbe31-58de-4c60-9a9b-0cc89999aedc",
   "metadata": {},
   "outputs": [],
   "source": [
    "_coord_DAQ_GPS_onsite = Geodetic(latitude=40.99434, longitude=93.94177, height=1262.3760)\n",
    "# coord_DAQ_GPS_onsite = GRANDCS(_coord_DAQ_GPS_onsite, obstime=\"2024-04-28\", location=coord_1078)\n",
    "coord_DAQ_GPS_onsite = GRANDCS(_coord_DAQ_GPS_onsite, obstime=\"2024-04-28\",\n",
    "                               location=Geodetic(latitude=y[1,1], longitude=y[1,0], height=y[1,2]))\n",
    "# coord_DAQ_1076 = GRANDCS(coord_DAQ_GPS_onsite, obstime=\"2024-04-28\", location=coord_1078)\n",
    "coord_DAQ_1076 = GRANDCS(x=406.4, y=456.6, z=0, obstime=\"2024-04-28\", location=coord_1078)\n",
    "plt.figure(figsize=(6, 5))\n",
    "# plt.subplot(121)\n",
    "# plt.plot(coord_DAQ_1076.x[0], coord_DAQ_1076.y[0], marker='*', markersize=20)\n",
    "# plt.plot(file_cood[:,1], file_cood[:,2], marker='.', ls='')\n",
    "# plt.plot(file_cood[:,1], file_cood[:,2], marker='.', ls='')\n",
    "# plt.grid()\n",
    "# plt.axis(\"equal\")\n",
    "# plt.xlabel(\"x[m]\")\n",
    "# plt.ylabel(\"y[m]\")\n",
    "# plt.subplot(122)\n",
    "plt.plot(-coord_DAQ_GPS_onsite.y[0], coord_DAQ_GPS_onsite.x[0], marker='+', markersize=20)\n",
    "# plt.plot(-coord_DAQ_1076.y[0] + np.array([0, 1000 * np.sin(np.radians(26.8))]), coord_DAQ_1076.x[0] + 1000 * np.array([0, -np.cos(np.radians(26.8))]), ls='--')\n",
    "# plt.plot(-coord_DAQ_1076.y[0], coord_DAQ_1076.x[0], marker='*', markersize=20)\n",
    "plt.plot(-file_cood[:,2], file_cood[:,1], marker='.', ls='')\n",
    "plt.plot(-file_cood[:,2], file_cood[:,1], marker='.', ls='')\n",
    "\n",
    "plt.grid()\n",
    "plt.axis(\"equal\")\n",
    "plt.xlabel(\"Easting[m]\")\n",
    "plt.ylabel(\"Northing[m]\")\n",
    "plt.tight_layout()\n",
    "# plt.savefig(\"imgs/GP13_layout_7DUs.pdf\")"
   ]
  },
  {
   "cell_type": "markdown",
   "id": "708a8d13-dad0-44da-9086-9d069d1fbf55",
   "metadata": {},
   "source": [
    "# Trigger times relative to the first trigger for all events"
   ]
  },
  {
   "cell_type": "code",
   "execution_count": null,
   "id": "235b1cf9-cbf3-4c53-83bd-0f09e18ed2a6",
   "metadata": {},
   "outputs": [],
   "source": [
    "# From below, only select events with relatively small chi2\n",
    "mask_chi2 = list_chi2_PWF > 1e-1\n",
    "list_good_event_ids = file_rec_plane[mask_chi2,0].astype(int) # The linenumbers of good events\n",
    "list_bad_event_ids = file_rec_plane[~mask_chi2,0].astype(int) # The linenumbers of good events\n",
    "# Indices of the DUs/traces in the events with small chi2\n",
    "list_good_DUs = np.array([i in list_good_event_ids for i in file_coinctable[:,1]])\n",
    "list_du_unique = np.unique(file_du_id[list_good_DUs]).astype(int)\n",
    "\n",
    "t_relative = np.zeros_like(file_coinctable[list_good_DUs,0], dtype=float)\n",
    "n_event = np.sum(list_good_event_ids)\n",
    "list_event_time = np.array([np.min(file_coinctable[file_coinctable[:,1] == i,2]) for i in list_good_event_ids]) \n",
    "list_event_time_bad = np.array([np.min(file_coinctable[file_coinctable[:,1] == i,2]) for i in list_bad_event_ids]) \n",
    "\n",
    "for i, row in enumerate(file_coinctable[list_good_DUs]):\n",
    "    event_id = row[1]\n",
    "    # Use the first triggered DU as the time origin\n",
    "    t0 = np.min(file_coinctable[file_coinctable[:,1] == event_id,2])\n",
    "    t_relative[i] = row[2] - t0\n",
    "\n",
    "plt.figure(figsize=(14, 5))\n",
    "for du in list_du_unique:\n",
    "    t = t_relative[(file_du_id[list_good_DUs] == du)] * 1e9\n",
    "    # print(du, np.unique(t - t_ref, return_counts=True))\n",
    "    plt.hist(t, np.linspace(-0, 6000, 1000), histtype='step', label=du)\n",
    "plt.legend(markerscale=10, ncol=6)\n",
    "plt.xticks(np.arange(0, 6000, 400))\n",
    "plt.semilogy()\n",
    "# plt.yticks(np.arange(0, 3500, 238.4185791))\n",
    "# plt.ylim(-50, 50)\n",
    "plt.grid(True)\n",
    "plt.xlabel(\"$t_{\\\\rm rel}$[ns]\")\n",
    "plt.ylabel(\"# of triggers\");"
   ]
  },
  {
   "cell_type": "markdown",
   "id": "b1e3aba7-3288-4617-b32a-a0839515d228",
   "metadata": {},
   "source": [
    "## Event time of the first triggered DU"
   ]
  },
  {
   "cell_type": "code",
   "execution_count": null,
   "id": "5dfb26aa-cc4d-4769-b377-5fb19eda2f34",
   "metadata": {},
   "outputs": [],
   "source": [
    "plt.plot(list_event_time, list_good_event_ids, marker='.', ls='', markersize=1)\n",
    "\n",
    "# print(rate_avg, \"Hz\")\n",
    "# print(rate_avg / rate)\n",
    "plt.ylabel(\"Event ID\")\n",
    "plt.xlabel(\"Event time[s]\")\n",
    "# plt.xlim(0, 10);"
   ]
  },
  {
   "cell_type": "markdown",
   "id": "cb8389ff-6d35-49c1-928c-3c80f77466da",
   "metadata": {},
   "source": [
    "## Interval between two events"
   ]
  },
  {
   "cell_type": "code",
   "execution_count": null,
   "id": "5e3bc558-9800-484b-96e7-146f88aa88f0",
   "metadata": {},
   "outputs": [],
   "source": [
    "plt.hist(np.diff(list_event_time), np.logspace(-4, 5, 51))\n",
    "plt.loglog()\n",
    "plt.xlabel(\"$\\Delta t$[s]\")\n",
    "plt.grid(True);"
   ]
  },
  {
   "cell_type": "markdown",
   "id": "5ca4acb1-4e7d-4736-8694-d73a4957b722",
   "metadata": {},
   "source": [
    "## GPS positioning"
   ]
  },
  {
   "cell_type": "code",
   "execution_count": null,
   "id": "d4f86488-eefd-4786-94de-f3d17d95a58a",
   "metadata": {},
   "outputs": [],
   "source": [
    "du_coord_dict = {}\n",
    "for i in list_du_unique:\n",
    "    du_coord_dict[i] = [np.unique(file_ducoord[file_du_id == i][:,1])[0],\n",
    "                       np.unique(file_ducoord[file_du_id == i][:,2])[0],\n",
    "                       np.unique(file_ducoord[file_du_id == i][:,3])[0]]"
   ]
  },
  {
   "cell_type": "markdown",
   "id": "ce11cb48-3b79-4f87-be7a-c325e5a0a4af",
   "metadata": {
    "jp-MarkdownHeadingCollapsed": true
   },
   "source": [
    "## GPS timing vs true arrival time"
   ]
  },
  {
   "cell_type": "code",
   "execution_count": null,
   "id": "ee942a43-e0a6-49f9-b91c-f0cf773b5f20",
   "metadata": {},
   "outputs": [],
   "source": [
    "list_time_delay_rec = np.zeros_like(file_coinctable[:,1])\n",
    "list_time_delay_exp = np.zeros_like(file_coinctable[:,1])\n",
    "list_time_delay_true = np.zeros_like(file_coinctable[:,1])\n",
    "true_pos_source = [71, 38, 1312] # The averaged reconstructed source position from the SWF\n",
    "\n",
    "for i, event_id in enumerate(file_rec_plane[:,0]):\n",
    "  list_linenumber = (file_coinctable[file_coinctable[:,1] == event_id,0]).astype(\"int\")\n",
    "  time_delay_exp = file_coinctable[file_coinctable[:,1] == event_id,2]\n",
    "  _list_du = file_du_id[list_linenumber]\n",
    "  time_delay_exp_ns = time_delay_exp * 1e9 # ns\n",
    "  # use the first triggered DU as the time origin\n",
    "  time_0 = np.min(time_delay_exp_ns)\n",
    "  arg_min = np.argmin(time_delay_exp_ns) # Pass the index of the min to the true delta T\n",
    "  list_time_delay_exp[list_linenumber] = time_delay_exp_ns - time_0\n",
    "  \n",
    "  du_pos = file_ducoord[list_linenumber,1:]\n",
    "  time_delay_true = np.sqrt(np.sum((du_pos - true_pos_source)**2, axis=1)) / 3e8 * 1e9\n",
    "  time_0 = time_delay_true[arg_min]\n",
    "  list_time_delay_true[list_linenumber] = time_delay_true - time_0"
   ]
  },
  {
   "cell_type": "code",
   "execution_count": null,
   "id": "39802d57-fd01-49a6-aa41-e1652c8d0e79",
   "metadata": {},
   "outputs": [],
   "source": [
    "for du in list_du_unique:\n",
    "    plt.plot(list_time_delay_true[(file_du_id == du) & list_good_DUs], list_time_delay_exp[(file_du_id == du) & list_good_DUs], marker='.', ls='', markersize=8, label=du)\n",
    "\n",
    "plt.plot([0, 7000], [0, 7000], c='k', ls='--')\n",
    "plt.xlim(-100, 6000)\n",
    "plt.ylim(-100, 6000)\n",
    "plt.legend(markerscale=2, ncols=2, loc=\"best\", frameon=False)\n",
    "plt.xlabel(\"t_true[ns]\")\n",
    "plt.ylabel(\"t_exp (t_1013=0)[ns]\")\n",
    "plt.grid(\"True\")\n",
    "# plt.tight_layout()\n",
    "# plt.axis(\"equal\")\n",
    "# plt.savefig(\"imgs/delay_true_exp_by_DU.pdf\")"
   ]
  },
  {
   "cell_type": "markdown",
   "id": "50a5722b-7d67-4d63-bc24-39699d35eec2",
   "metadata": {
    "jp-MarkdownHeadingCollapsed": true
   },
   "source": [
    "## Observed time vs True time"
   ]
  },
  {
   "cell_type": "code",
   "execution_count": null,
   "id": "0033de14-7fd9-4b01-a445-5dd6c5c2097d",
   "metadata": {},
   "outputs": [],
   "source": [
    "list_delta_Ttrue = list_time_delay_exp - list_time_delay_true \n",
    "for du in list_du_unique:\n",
    "    # mask_small = (np.abs(list_delta_Ttrue) < 1e4) \n",
    "    m = np.mean(list_delta_Ttrue[(file_du_id == du) & list_good_DUs])\n",
    "    # print(du, np.std(list_delta_Ttrue[(file_du_id == du) & mask_small]), '\\t', f\"{m:.0f}\",);\n",
    "    plt.hist(list_delta_Ttrue[(file_du_id == du) & list_good_DUs] - m, np.linspace(-40.5, 40.5, 81), label=f\"{du}\", histtype='step', lw=2)\n",
    "    # plt.hist(list_delta_T, np.logspace(0, 6), label='$\\Delta t > 0$')\n",
    "plt.xlabel(\"$\\Delta t$[ns]\")\n",
    "plt.legend()\n",
    "plt.ylim(0, 40)\n",
    "# plt.loglog()\n",
    "plt.grid(True)\n",
    "# plt.savefig(f\"imgs/hist_delta_t_{du}.pdf\");"
   ]
  },
  {
   "cell_type": "markdown",
   "id": "ff7f48e0-267b-44ad-9e6d-347761e169e7",
   "metadata": {
    "jp-MarkdownHeadingCollapsed": true
   },
   "source": [
    "## Amplitude distribution"
   ]
  },
  {
   "cell_type": "code",
   "execution_count": null,
   "id": "f72316c8-1480-4637-847b-d0fd286e698b",
   "metadata": {},
   "outputs": [],
   "source": [
    "for du in list_du_unique:\n",
    "    x = plt.hist(file_coinctable[file_du_id == du, -1], histtype='step', label=du, bins=np.linspace(0, 400, 81))\n",
    "    gcs = file_ducoord[file_du_id == du][0]\n",
    "    d = np.sqrt((gcs[0] - true_pos_source[0])**2\n",
    "                + (gcs[1] - true_pos_source[1])**2\n",
    "                + (gcs[2] - true_pos_source[2])**2)\n",
    "    plt.text(x[1][np.argmax(x[0])] - 10, np.max(x[0]), f\"{du}:{d:.0f}m\")\n",
    "# plt.semilogy()\n",
    "plt.grid(True)\n",
    "plt.xlabel(\"Max of ADC\")\n",
    "plt.ylabel(\"# of Events\")"
   ]
  },
  {
   "cell_type": "markdown",
   "id": "27c695cc-d420-4fab-a437-d07ad7a1ef50",
   "metadata": {},
   "source": [
    "# Multiplicity"
   ]
  },
  {
   "cell_type": "code",
   "execution_count": null,
   "id": "db4e6b90-cecc-4c8c-9657-caaf6fd45b40",
   "metadata": {},
   "outputs": [],
   "source": [
    "n_DU, n = np.unique(file_rec_plane[~mask_chi2,1], return_counts=True)\n",
    "plt.bar(n_DU, n, width=0.7, alpha=0.4)\n",
    "n_DU, n = np.unique(file_rec_plane[mask_chi2,1], return_counts=True)\n",
    "plt.bar(n_DU, n, width=0.7, alpha=0.4)\n",
    "plt.grid()\n",
    "plt.xticks(np.arange(13))\n",
    "plt.semilogy();"
   ]
  },
  {
   "cell_type": "markdown",
   "id": "6387590d-5ad1-4257-9fbd-fa7ab4e465ab",
   "metadata": {},
   "source": [
    "# Check the SWF"
   ]
  },
  {
   "cell_type": "markdown",
   "id": "cb95891b-861c-404e-b4d8-e48ce8c37059",
   "metadata": {},
   "source": [
    "## Distribution of $\\chi^2$"
   ]
  },
  {
   "cell_type": "code",
   "execution_count": null,
   "id": "fb5ba024-5830-452c-ae62-5a10a1fe89d1",
   "metadata": {},
   "outputs": [],
   "source": [
    "list_chi2_SWF = file_rec_sphere[:,2]\n",
    "plt.hist(list_chi2_SWF, np.logspace(-2, 4,), histtype='step')\n",
    "plt.loglog()\n",
    "# plt.legend()\n",
    "plt.grid()\n",
    "plt.xlabel(r\"$\\chi^2_{\\rm SWF}$\");"
   ]
  },
  {
   "cell_type": "markdown",
   "id": "8df8a00a-cc51-447b-b373-96ec6daa7ac8",
   "metadata": {},
   "source": [
    "## The reconstructed source position"
   ]
  },
  {
   "cell_type": "code",
   "execution_count": null,
   "id": "503f1b43-a308-453c-af1f-6e29fcad8c18",
   "metadata": {
    "scrolled": true
   },
   "outputs": [],
   "source": [
    "source = np.array([0, 0, coord_DAQ.height[0]])"
   ]
  },
  {
   "cell_type": "code",
   "execution_count": null,
   "id": "a3b9a80b-c0c4-41e3-9ee0-72142a06cf1a",
   "metadata": {},
   "outputs": [],
   "source": [
    "x = file_rec_sphere[:,4]\n",
    "y = file_rec_sphere[:,5]\n",
    "z = file_rec_sphere[:,6]\n",
    "plt.plot(x, y, marker='.', ls='', markersize=2)\n",
    "# plt.plot(y[list_chi2 < 1e3], -x[list_chi2 < 1e3], marker='.', ls='')\n",
    "# plt.plot(y[list_chi2 > 1e4], -x[list_chi2 > 1e4], marker='.', ls='')\n",
    "# plt.xlim(-100, 200)\n",
    "# plt.ylim(-200, 200)\n",
    "plt.axis(\"equal\")"
   ]
  },
  {
   "cell_type": "code",
   "execution_count": null,
   "id": "3a6fb1c9-c791-44af-83c9-816e4dd2240f",
   "metadata": {},
   "outputs": [],
   "source": [
    "d = np.sqrt((x - source[0])**2 + (y - source[1])**2 + (z - source[2]))\n",
    "plt.hist(d[list_chi2_PWF < 2e3], np.logspace(0, 5), histtype='step')\n",
    "plt.hist(d[mask_chi2], np.logspace(0, 5), histtype='step')\n",
    "plt.loglog()\n",
    "plt.xlabel(\"Distance to (0,0, 1206)[m]\");"
   ]
  },
  {
   "cell_type": "code",
   "execution_count": null,
   "id": "2e559347-c98c-4dac-988b-69d8275f64f9",
   "metadata": {},
   "outputs": [],
   "source": [
    "ax = plt.figure(figsize=(10, 8)).add_subplot(projection='3d')\n",
    "ax.scatter(x[~mask_chi2], y[~mask_chi2], z[~mask_chi2], label='BKG events')\n",
    "ax.scatter(x[mask_chi2], y[mask_chi2], z[mask_chi2], label='Beacon events')\n",
    "ax.scatter(*source, marker='*', s=500)\n",
    "ax.view_init(elev=30., azim=240, roll=0)\n",
    "ax.set_xlabel(\"x[m]\")\n",
    "ax.set_ylabel(\"y[m]\")\n",
    "ax.set_zlabel(\"z[m]\")\n",
    "ax.legend()\n",
    "plt.tight_layout()"
   ]
  },
  {
   "cell_type": "markdown",
   "id": "2c5366a5-0970-41bd-93b1-c65c6912306d",
   "metadata": {},
   "source": [
    "## Reconstructed directions"
   ]
  },
  {
   "cell_type": "code",
   "execution_count": null,
   "id": "ac9325ee-f36c-4376-a7ec-70448e65dff1",
   "metadata": {},
   "outputs": [],
   "source": [
    "_theta = np.rad2deg(np.arccos( file_rec_sphere[:,6] / file_rec_sphere[:,8]))\n",
    "_theta[_theta > 90] = 180 - _theta[_theta > 90]\n",
    "_phi = np.rad2deg(np.arctan2(file_rec_sphere[:,4], file_rec_sphere[:,5]))\n",
    "\n",
    "# plt.hist(_theta[list_chi2 < 1e3], np.linspace(0, 91, 901), histtype='step')\n",
    "# plt.hist(_theta[list_chi2 > 1e4], np.linspace(0, 91, 901), histtype='step');\n",
    "# plt.hist(_phi[~mask_chi2], np.linspace(0, 361, 3601), histtype='step')\n",
    "# plt.hist(_phi[mask_chi2], np.linspace(0, 361, 3601), histtype='step');\n",
    "plt.hist(_phi[~mask_chi2], 200, histtype='step')\n",
    "plt.hist(_phi[mask_chi2], 200, histtype='step');\n",
    "# plt.xlim(26, 28)"
   ]
  },
  {
   "cell_type": "code",
   "execution_count": null,
   "id": "7e976774-c9c4-4537-8713-3fe88e4da570",
   "metadata": {},
   "outputs": [],
   "source": [
    "# plt.plot(azimuth[list_chi2 < 1e3], marker='.', ls='')\n",
    "# plt.plot(azimuth[list_chi2 > 1e4], marker='.', ls='')\n",
    "plt.hist(_theta[~mask_chi2], np.linspace(0, 90, 91), histtype='step')\n",
    "plt.hist(_theta[mask_chi2], np.linspace(0, 90, 91), histtype='step');"
   ]
  },
  {
   "cell_type": "code",
   "execution_count": null,
   "id": "9ca33514-8924-4018-93aa-6bbe7645649f",
   "metadata": {},
   "outputs": [],
   "source": [
    "plt.figure(figsize=(15, 4))\n",
    "plt.hist(_phi[list_chi2 < 1e4], np.linspace(0, 360, 101), histtype='step')\n",
    "plt.hist(_phi[list_chi2 > 1e4], np.linspace(0, 360, 101), histtype='step');\n",
    "# plt.xlim(25, 35);"
   ]
  },
  {
   "cell_type": "code",
   "execution_count": null,
   "id": "8c9892dd-7e72-438c-b3fe-dc85abc97e39",
   "metadata": {},
   "outputs": [],
   "source": [
    "(list_event_time[-1] - list_event_time[0])"
   ]
  },
  {
   "cell_type": "code",
   "execution_count": null,
   "id": "93fe9e40-5129-4b7d-9443-e46c70623847",
   "metadata": {},
   "outputs": [],
   "source": [
    "list_good_event_ids"
   ]
  },
  {
   "cell_type": "code",
   "execution_count": null,
   "id": "5ae55eff-017d-477a-b158-183359614cac",
   "metadata": {},
   "outputs": [],
   "source": [
    "len(file_du_id)"
   ]
  },
  {
   "cell_type": "code",
   "execution_count": null,
   "id": "9612a46d-522e-422b-b6a4-ef746d3f52be",
   "metadata": {},
   "outputs": [],
   "source": [
    "list_good_event_ids[:4]"
   ]
  },
  {
   "cell_type": "markdown",
   "id": "b958bcd6-a327-4f6f-ad4b-c7120d206845",
   "metadata": {},
   "source": [
    "## Frequency of DUs in the \"good\" events"
   ]
  },
  {
   "cell_type": "code",
   "execution_count": null,
   "id": "bbfbe984-4400-44a2-a92c-6121dc2c46aa",
   "metadata": {},
   "outputs": [],
   "source": [
    "dus, ns = np.unique(file_du_id[list_good_DUs], return_counts=True)\n",
    "mask_sort = np.argsort(ns)\n",
    "print(dus[mask_sort])\n",
    "print(ns[mask_sort] / np.sum(mask_chi2))"
   ]
  },
  {
   "cell_type": "code",
   "execution_count": null,
   "id": "a06e095f-05ef-422f-9a94-c933b4da6ff0",
   "metadata": {},
   "outputs": [],
   "source": [
    "list_du_ocurrence_40Hz = {}\n",
    "for du, n in zip(dus, ns):\n",
    "    list_du_ocurrence_40Hz[int(du)] = n / np.sum(mask_chi2)"
   ]
  },
  {
   "cell_type": "code",
   "execution_count": null,
   "id": "479a90c0-2e49-4884-b98e-d353361cecec",
   "metadata": {},
   "outputs": [],
   "source": [
    "du = 1041\n",
    "list_rate = [10, 20, 40, 100]\n",
    "list_du_freq = [list_du_ocurrence_10Hz[du],\n",
    "                list_du_ocurrence_20Hz[du],\n",
    "                list_du_ocurrence_40Hz[du],\n",
    "                list_du_ocurrence_100Hz[du]]\n",
    "plt.plot(list_rate, list_du_freq, marker='.')\n",
    "plt.xlabel(\"Rate [Hz]\")\n",
    "plt.ylabel(\"Occurence\")"
   ]
  },
  {
   "cell_type": "markdown",
   "id": "5614f1ee-341b-4001-9dbd-acd2be1b470a",
   "metadata": {},
   "source": [
    "# GP13 CD check"
   ]
  },
  {
   "cell_type": "code",
   "execution_count": null,
   "id": "7d8a6c9f-5ce4-4d10-aa9a-561f2eeb2168",
   "metadata": {},
   "outputs": [],
   "source": [
    "file_CD = rt.DataTree(\"GP13_CD_test.root\")"
   ]
  },
  {
   "cell_type": "markdown",
   "id": "09b7ba46-7969-4e10-89c7-369fb52c1d09",
   "metadata": {},
   "source": [
    "# 0914 LAST RUN 20Hz Beacon\n",
    "\n",
    "12 DUs (DU1018 excluded)  \n",
    "DU1023 downed due to a burst up to ~1400Hz  \n",
    "Notch filter: 132MHz, width=0.9\n"
   ]
  },
  {
   "cell_type": "markdown",
   "id": "f0dacd3d-c040-4b6e-83f9-452b883a0e06",
   "metadata": {},
   "source": [
    "## Data\n",
    "\n",
    "UD:  \n",
    "GP13_20240914_113654_RUN0914_UD_20dB_12DUs_20Hz_75MHz_BeaconTest_001_dat.root  \n",
    "GP13_20240914_113746_RUN0914_UD_20dB_12DUs_20Hz_75MHz_BeaconTest_002_dat.root\n",
    "\n",
    "CD:  \n",
    "GP13.RUN0914_CD_20dB_11DUs_20Hz_75MHz_BeaconTest.20240914193922.10000.1.dat "
   ]
  },
  {
   "cell_type": "markdown",
   "id": "d34eea9e-ddf1-498b-befa-e48d192734fe",
   "metadata": {},
   "source": [
    "# 0914 21h 1h UD run\n",
    "\n",
    "threshold "
   ]
  },
  {
   "cell_type": "code",
   "execution_count": null,
   "id": "0401869e-5c4d-4497-a8a9-2dc7b03bf68e",
   "metadata": {},
   "outputs": [],
   "source": []
  }
 ],
 "metadata": {
  "kernelspec": {
   "display_name": "Python 3",
   "language": "python",
   "name": "python3"
  },
  "language_info": {
   "codemirror_mode": {
    "name": "ipython",
    "version": 3
   },
   "file_extension": ".py",
   "mimetype": "text/x-python",
   "name": "python",
   "nbconvert_exporter": "python",
   "pygments_lexer": "ipython3",
   "version": "3.8.11"
  }
 },
 "nbformat": 4,
 "nbformat_minor": 5
}
